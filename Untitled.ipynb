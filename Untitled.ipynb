{
 "cells": [
  {
   "cell_type": "markdown",
   "id": "8072838b",
   "metadata": {},
   "source": [
    "# 1) ikinci dereceden denklemin köklerini bulmak "
   ]
  },
  {
   "cell_type": "code",
   "execution_count": null,
   "id": "a0324226",
   "metadata": {},
   "outputs": [],
   "source": [
    "from math import *\n",
    "print(\"ax^2 + bx + c denkleminin varsa köklerini bulmak için;\")\n",
    "a = int(input(\"a değerini yazın > \"))\n",
    "b = int(input(\"b değerini yazın > \"))\n",
    "c = int(input(\"c değerini yazın > \"))\n",
    "delta = b * b - 4 * a * c\n",
    "if delta<0:\n",
    "    print(\"sistemin reel kökü yoktur\")\n",
    "elif delta == 0:\n",
    "    kok = (-b - sqrt(delta)) / (2*a)\n",
    "    print(\"sistemin tek bir reel kökü vardır\")\n",
    "    print(kok)\n",
    "else:\n",
    "    print(\"sistemin iki farklı reel kökü vardır\")\n",
    "    kok1 = (-b - sqrt(delta)) / (2 * a)\n",
    "    kok2 = (-b + sqrt(delta)) / (2 * a)\n",
    "    print(kok1)\n",
    "    print(kok2)"
   ]
  },
  {
   "cell_type": "markdown",
   "id": "a6af6990",
   "metadata": {},
   "source": [
    "# 2 ) Dairenin Alanı ve Çevresini Hesaplama"
   ]
  },
  {
   "cell_type": "code",
   "execution_count": null,
   "id": "e857949e",
   "metadata": {},
   "outputs": [],
   "source": [
    "r=int(input(\"Yarı Çapı Girin: \"))\n",
    "cevre=2*3.14*r\n",
    "alan=3.14*r*r\n",
    "print(\"Çevre: \",cevre)\n",
    "print(\"Alan: \",alan)"
   ]
  },
  {
   "cell_type": "markdown",
   "id": "d3a68d8a",
   "metadata": {},
   "source": [
    "# 3) iki iç açısı girilen üçgenin üçüncü iç açısını çevresini hesaplama"
   ]
  },
  {
   "cell_type": "code",
   "execution_count": 3,
   "id": "17895dad",
   "metadata": {},
   "outputs": [
    {
     "name": "stdout",
     "output_type": "stream",
     "text": [
      "Yarı Çapı Girin: 3\n",
      "Çevre:  18.84\n",
      "Alan:  28.259999999999998\n"
     ]
    }
   ],
   "source": [
    "aci1 = int(input(\"Lütfen 1. iç açıyı giriniz\"))\n",
    "aci2 = int(input(\"Lütfen 2. iç açıyı giriniz\"))\n",
    "toplam = aci1 + aci2\n",
    "bilinmeyenaci = 180 - toplam\n",
    "\n",
    "print(\"Bilinmeyen Üçüncü açı=\" , bilinmeyenaci)"
   ]
  },
  {
   "cell_type": "markdown",
   "id": "00db84fb",
   "metadata": {},
   "source": [
    "aci1 = int(input(\"Lütfen 1. iç açıyı giriniz\"))\n",
    "aci2 = int(input(\"Lütfen 2. iç açıyı giriniz\"))\n",
    "toplam = aci1 + aci2\n",
    "bilinmeyenaci = 180 - toplam\n",
    "\n",
    "print(\"Bilinmeyen Üçüncü açı=\" , bilinmeyenaci)"
   ]
  }
 ],
 "metadata": {
  "kernelspec": {
   "display_name": "Python 3 (ipykernel)",
   "language": "python",
   "name": "python3"
  },
  "language_info": {
   "codemirror_mode": {
    "name": "ipython",
    "version": 3
   },
   "file_extension": ".py",
   "mimetype": "text/x-python",
   "name": "python",
   "nbconvert_exporter": "python",
   "pygments_lexer": "ipython3",
   "version": "3.9.12"
  }
 },
 "nbformat": 4,
 "nbformat_minor": 5
}
